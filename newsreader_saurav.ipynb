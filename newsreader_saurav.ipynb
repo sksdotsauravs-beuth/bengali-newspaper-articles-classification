{
 "cells": [
  {
   "cell_type": "markdown",
   "metadata": {},
   "source": [
    "##### Course: Data Science Workflow\n",
    "##### Instructor: Prof. Felix Bießmann\n",
    "##### Project: newsreader\n",
    "##### Contributor: Saurav Kumar Saha"
   ]
  },
  {
   "cell_type": "code",
   "execution_count": 1,
   "metadata": {},
   "outputs": [],
   "source": [
    "from bs4 import BeautifulSoup\n",
    "from datetime import datetime\n",
    "from IPython.display import IFrame\n",
    "\n",
    "from sklearn.feature_extraction.text import TfidfVectorizer\n",
    "from sklearn.linear_model import SGDClassifier\n",
    "from sklearn.metrics import plot_confusion_matrix\n",
    "from sklearn.metrics import confusion_matrix, classification_report, accuracy_score, precision_recall_curve\n",
    "from sklearn.model_selection import train_test_split, GridSearchCV\n",
    "from sklearn.pipeline import Pipeline\n",
    "\n",
    "import ipywidgets as widgets\n",
    "import matplotlib.pyplot as plt\n",
    "import numpy as np\n",
    "import pandas as pd\n",
    "\n",
    "import glob\n",
    "import json\n",
    "import os\n",
    "import requests\n",
    "import sys\n",
    "\n",
    "import warnings\n",
    "warnings.filterwarnings('ignore')\n",
    "\n",
    "# from selenium import webdriver\n",
    "# from selenium.webdriver.chrome.options import Options\n",
    "# import time\n",
    "# https://sites.google.com/a/chromium.org/chromedriver/downloads"
   ]
  },
  {
   "cell_type": "markdown",
   "metadata": {},
   "source": [
    "### Newspaper Selected: bdnews24.com"
   ]
  },
  {
   "cell_type": "code",
   "execution_count": 2,
   "metadata": {
    "scrolled": false
   },
   "outputs": [
    {
     "data": {
      "text/html": [
       "\n",
       "        <iframe\n",
       "            width=\"1024\"\n",
       "            height=\"400\"\n",
       "            src=\"http://bangla.bdnews24.com/\"\n",
       "            frameborder=\"0\"\n",
       "            allowfullscreen\n",
       "        ></iframe>\n",
       "        "
      ],
      "text/plain": [
       "<IPython.lib.display.IFrame at 0x1b4dd149f10>"
      ]
     },
     "execution_count": 2,
     "metadata": {},
     "output_type": "execute_result"
    }
   ],
   "source": [
    "IFrame(\"http://bangla.bdnews24.com/\", width=1024, height=400)"
   ]
  },
  {
   "cell_type": "markdown",
   "metadata": {},
   "source": [
    "### Parternship with Deutsche Welle"
   ]
  },
  {
   "cell_type": "code",
   "execution_count": 3,
   "metadata": {},
   "outputs": [
    {
     "data": {
      "text/html": [
       "\n",
       "        <iframe\n",
       "            width=\"1024\"\n",
       "            height=\"400\"\n",
       "            src=\"https://www.dw.com/en/deutsche-welle-gains-new-partner-in-bangladesh/a-3707828\"\n",
       "            frameborder=\"0\"\n",
       "            allowfullscreen\n",
       "        ></iframe>\n",
       "        "
      ],
      "text/plain": [
       "<IPython.lib.display.IFrame at 0x1b4dd161cd0>"
      ]
     },
     "execution_count": 3,
     "metadata": {},
     "output_type": "execute_result"
    }
   ],
   "source": [
    "IFrame(\"https://www.dw.com/en/deutsche-welle-gains-new-partner-in-bangladesh/a-3707828\", width=1024, height=400)"
   ]
  },
  {
   "cell_type": "markdown",
   "metadata": {},
   "source": [
    "### Bangla Alphabets"
   ]
  },
  {
   "cell_type": "code",
   "execution_count": 4,
   "metadata": {},
   "outputs": [
    {
     "data": {
      "text/html": [
       "\n",
       "        <iframe\n",
       "            width=\"1024\"\n",
       "            height=\"400\"\n",
       "            src=\"http://home.uchicago.edu/~cbs2/b_instruct_downloads/Bangla.alphabet.VidyaSagar.pdf\"\n",
       "            frameborder=\"0\"\n",
       "            allowfullscreen\n",
       "        ></iframe>\n",
       "        "
      ],
      "text/plain": [
       "<IPython.lib.display.IFrame at 0x1b4dd1659d0>"
      ]
     },
     "execution_count": 4,
     "metadata": {},
     "output_type": "execute_result"
    }
   ],
   "source": [
    "IFrame(\"http://home.uchicago.edu/~cbs2/b_instruct_downloads/Bangla.alphabet.VidyaSagar.pdf\", width=1024, height=400)"
   ]
  },
  {
   "cell_type": "markdown",
   "metadata": {},
   "source": [
    "### Part: Scraping"
   ]
  },
  {
   "cell_type": "code",
   "execution_count": 5,
   "metadata": {},
   "outputs": [],
   "source": [
    "# create directory for persisting news articles\n",
    "datadir = r'D:\\msc-ds\\course-resource\\data-science-workflow\\Exam-2'\n",
    "basedir = os.path.join(datadir, 'bangla.bdnews24.com')\n",
    "os.makedirs(basedir, exist_ok=True)"
   ]
  },
  {
   "cell_type": "code",
   "execution_count": 6,
   "metadata": {},
   "outputs": [],
   "source": [
    "# creating soup object from homepage\n",
    "bdnews24_url = 'https://bangla.bdnews24.com'\n",
    "homepage = BeautifulSoup(\n",
    "    requests.get(bdnews24_url).text,\n",
    "    'html.parser'\n",
    ")"
   ]
  },
  {
   "cell_type": "code",
   "execution_count": 7,
   "metadata": {},
   "outputs": [
    {
     "data": {
      "text/plain": [
       "{'বাংলাদেশ': 'https://bangla.bdnews24.com/bangladesh/',\n",
       " 'সমগ্র বাংলাদেশ': 'https://bangla.bdnews24.com/samagrabangladesh/',\n",
       " 'খেলা': 'https://bangla.bdnews24.com/sport/',\n",
       " 'ক্রিকেট': 'https://bangla.bdnews24.com/cricket/',\n",
       " 'চট্টগ্রাম': 'https://bangla.bdnews24.com/ctg/',\n",
       " 'রাজনীতি': 'https://bangla.bdnews24.com/politics/',\n",
       " 'বিশ্ব': 'https://bangla.bdnews24.com/world/',\n",
       " 'প্রবাস': 'https://bangla.bdnews24.com/probash/',\n",
       " 'ক্যাম্পাস': 'https://bangla.bdnews24.com/campus/',\n",
       " 'বাণিজ্য': 'https://bangla.bdnews24.com/business/',\n",
       " 'পুঁজিবাজার': 'https://bangla.bdnews24.com/stocks/',\n",
       " 'অর্থনীতি': 'https://bangla.bdnews24.com/economy/',\n",
       " 'স্বাস্থ্য': 'https://bangla.bdnews24.com/health/',\n",
       " 'পরিবেশ': 'https://bangla.bdnews24.com/environment/',\n",
       " 'টেক': 'https://bangla.bdnews24.com/tech/',\n",
       " 'গ্লিটজ': 'https://bangla.bdnews24.com/glitz/',\n",
       " 'লাইফস্টাইল': 'https://bangla.bdnews24.com/lifestyle/',\n",
       " 'কিডজ': 'https://bangla.bdnews24.com/kidz/',\n",
       " 'বিজ্ঞান': 'https://bangla.bdnews24.com/science/',\n",
       " 'সিটিজেন জার্নালিজম': 'https://blog.bdnews24.com/',\n",
       " 'মতামত': 'https://opinion.bdnews24.com/bangla/',\n",
       " 'আর্টস': 'https://arts.bdnews24.com/',\n",
       " 'হ্যালো': 'https://hello.bdnews24.com/',\n",
       " 'সাম্প্রতিক খবর': 'https://bangla.bdnews24.com/news/',\n",
       " 'ছবি ঘর': 'https://bangla.bdnews24.com/media_bn/image/',\n",
       " 'টিউব': 'https://tube.bdnews24.com/',\n",
       " 'এসএমএসসংবাদ': 'https://bangla.bdnews24.com/mobile/'}"
      ]
     },
     "execution_count": 7,
     "metadata": {},
     "output_type": "execute_result"
    }
   ],
   "source": [
    "# extracting categories from homapage soup object\n",
    "categories_ultag = homepage.find('ul', id='drop_down_body_menu')\n",
    "categories = {litag.get_text(strip=True):litag.find('a', href=True)['href'] for litag in categories_ultag.find_all('li')}\n",
    "categories = {category:(url if url.startswith('https://') else (bdnews24_url+url)) for category, url in categories.items()}\n",
    "\n",
    "# removing 'classifieds' category as this page is only for advertisements (e.g. cars, apartments and houses, jobs)\n",
    "categories.pop('', None)\n",
    "\n",
    "# removing 'খবর'/'news' category as this url is same as the homepage, like 'Home' button\n",
    "categories.pop('খবর', None)\n",
    "\n",
    "categories"
   ]
  },
  {
   "cell_type": "code",
   "execution_count": 8,
   "metadata": {},
   "outputs": [],
   "source": [
    "def category_parser(category_link, basedir, article_links_parser):\n",
    "    \n",
    "    # parse category from category_link\n",
    "    category = category_name_parser(category_link)\n",
    "    \n",
    "    # create category directory\n",
    "    categorydir = create_category_directory(basedir, category)\n",
    "    \n",
    "    # parse stopper numeric extracted from existing date-wise directories\n",
    "    parse_stopper = extract_parse_stopper(basedir, category, 2)\n",
    "    \n",
    "    # create allnewspage soup object\n",
    "    allnewslink = extract_allnewslink(category_link)\n",
    "    allnewspage = BeautifulSoup(\n",
    "        requests.get(allnewslink).text,\n",
    "        'html.parser'\n",
    "    )\n",
    "    \n",
    "    # collect all article links\n",
    "    article_links = article_links_parser(allnewspage)\n",
    "\n",
    "    # parse articles, collect in json formats and store\n",
    "    new_extracted = 0\n",
    "    total_extracted = 0\n",
    "    for article_link in article_links:\n",
    "        article = article_parser(article_link)\n",
    "        article[\"article_category\"] = category\n",
    "        \n",
    "        directory = datetime.strptime(article[\"article_published\"], '%d %b %Y %I:%M %p BdST').strftime(\"%Y-%m-%d\")\n",
    "        datedir = os.path.join(categorydir, directory)\n",
    "        \n",
    "        if (datedir_to_numeric(directory) >= parse_stopper):\n",
    "            os.makedirs(datedir, exist_ok=True)\n",
    "            filepath = os.path.join(datedir, f'{article[\"article_id\"]}' + '.json')\n",
    "            if (not os.path.exists(filepath)):\n",
    "                new_extracted += 1\n",
    "            with open(filepath, 'w+', encoding='utf-8') as file:\n",
    "                json.dump(article, file, ensure_ascii=False)\n",
    "                total_extracted += 1\n",
    "        else:\n",
    "            break\n",
    "    \n",
    "    print('-----------------------------------')\n",
    "    print(f'Category:       {category}')\n",
    "    print(f'Total:          {total_extracted}')\n",
    "    print(f'New:            {new_extracted}')\n",
    "    print('-----------------------------------\\n')\n",
    "\n",
    "\n",
    "def category_name_parser(category_link):\n",
    "    return category_link.split('/')[-2]\n",
    "\n",
    "\n",
    "def create_category_directory(basedir, category):\n",
    "    categorydir = os.path.join(basedir, category)\n",
    "    os.makedirs(categorydir, exist_ok=True)\n",
    "    return categorydir\n",
    "\n",
    "\n",
    "def extract_parse_stopper(basedir, category, day_threshold=1):\n",
    "    directories = [item.name for item in os.scandir(os.path.join(basedir, category)) if item.is_dir()]\n",
    "    length = len(directories)\n",
    "    if length == 0:\n",
    "        return -1\n",
    "    if (length > day_threshold):\n",
    "        return datedir_to_numeric(directories[-day_threshold])\n",
    "    else:\n",
    "        return datedir_to_numeric(directories[-length])\n",
    "\n",
    "    \n",
    "def datedir_to_numeric(datedir):\n",
    "    return int(datedir.replace('-', ''))\n",
    "\n",
    "\n",
    "def extract_allnewslink(category_link):\n",
    "    category_homepage = BeautifulSoup(\n",
    "        requests.get(category_link).text,\n",
    "        'html.parser'\n",
    "    )\n",
    "    \n",
    "    allnewslink_div = category_homepage.find('div', id='latest_news2')\n",
    "    # for cricket category\n",
    "    if (not allnewslink_div):\n",
    "        allnewslink_div = category_homepage.find('div', {'class': 'inpage-widget-1616583'})\n",
    "        \n",
    "    allnewslink = allnewslink_div.find('a', href=True)['href']\n",
    "    \n",
    "    missing_part = 'http'\n",
    "    if (not allnewslink.startswith(missing_part)):\n",
    "        allnewslink = missing_part + 's:' + allnewslink\n",
    "    \n",
    "    return allnewslink\n",
    "\n",
    "\n",
    "# ALP01\n",
    "def article_links_parser_01(allnewspage):\n",
    "    content_ultag = allnewspage.find('ul', {'class': 'contentUL'})\n",
    "    return [litag.find('a', {'class': 'articledetailedNew'}, href=True)['href'] for litag in content_ultag.find_all('li', {'class': 'article'})]\n",
    "\n",
    "\n",
    "# ALP02\n",
    "def article_links_parser_02(allnewspage):\n",
    "    content_ultag = allnewspage.find('div', {'class': 'simplePagination'}).find('ul', {'class': 'pagination'})\n",
    "    return [litag.find('a', {'class': 'article'}, href=True)['href'] for litag in content_ultag.find_all('li')]\n",
    "\n",
    "\n",
    "def article_parser(article_link):\n",
    "    article_id = article_link.split('/')[-1]\n",
    "    \n",
    "    article_page = BeautifulSoup(\n",
    "        requests.get(article_link).text,\n",
    "        'html.parser'\n",
    "    )\n",
    "    \n",
    "    article_title = article_page.find('div', id='news-details-page').get_text().strip()\n",
    "    \n",
    "    article_by = article_page.find('div', {'class': 'article_byline'}).get_text()\n",
    "    article_by = article_by.replace(u'\\xa0', ' ').replace('\\n', ' ')\n",
    "    article_by = article_by.strip()\n",
    "    if ('    ' in article_by):\n",
    "        article_by = ', '.join([text.strip() for text in article_by.split('    ')])\n",
    "    elif (',' in article_by):\n",
    "        article_by = ', '.join([text.strip() for text in article_by.split(',')])\n",
    "    \n",
    "    article_published = article_updated = ''\n",
    "    article_time_div = article_page.find('div', {'class': 'article_dateline'})\n",
    "    article_time_spans = [span for span in article_time_div.find_all('span')]\n",
    "    if (len(article_time_spans) == 4):\n",
    "        article_published = article_time_spans[1].get_text().strip()\n",
    "        article_updated = article_time_spans[3].get_text().strip()\n",
    "    \n",
    "    article_leadtext = ''\n",
    "    article_leadtext_div = article_page.find('div', {'class': 'article_lead_text'})\n",
    "    if (article_leadtext_div):\n",
    "        article_leadtext = article_leadtext_div.get_text().strip()\n",
    "    article_text_div = article_page.find('div', {'class': 'custombody'})\n",
    "    article_text_paras = [para for para in article_text_div.find_all('p')]\n",
    "    article_text = article_leadtext + extract_article_text(article_text_paras)\n",
    "    article_text = '। '.join([line.strip() for line in article_text.split('।')]).strip()\n",
    "    \n",
    "    article = {\n",
    "        \"article_id\": article_id,\n",
    "        \"article_title\": article_title,\n",
    "        \"article_by\": article_by,\n",
    "        \"article_published\": article_published,\n",
    "        \"article_updated\": article_updated,\n",
    "        \"article_leadtext\": article_leadtext,\n",
    "        \"article_text\": article_text\n",
    "    }\n",
    "    return article\n",
    "    \n",
    "\n",
    "def extract_article_text(article_paras):\n",
    "    withImage = lambda p: p.find('img') != None\n",
    "    withImageDesc = lambda p: (len(dict(p.attrs)) > 0) and ('id' in dict(p.attrs)) and (dict(p.attrs)['id'] == 'belowinlineimage')\n",
    "    withAnchor = lambda p: p.find('a') != None\n",
    "    withStrong = lambda p: p.find('strong') != None\n",
    "    \n",
    "    length = len(article_paras)\n",
    "    text = ''\n",
    "    for index in range(length):\n",
    "        para = article_paras[index]    \n",
    "        if (withImage(para) or withImageDesc(para)):\n",
    "            continue\n",
    "        if (withStrong(para)):\n",
    "            if (index+1 < length):\n",
    "                firstnext = article_paras[index+1]\n",
    "                if (withStrong(firstnext) or withAnchor(firstnext)):\n",
    "                    if (index+2 < length):\n",
    "                        secondnext = article_paras[index+2]\n",
    "                        if (withAnchor(secondnext)):\n",
    "                            break;\n",
    "\n",
    "        text += para.get_text().replace('\\n', ' ')\n",
    "    return text\n",
    "\n"
   ]
  },
  {
   "cell_type": "code",
   "execution_count": 36,
   "metadata": {},
   "outputs": [
    {
     "name": "stdout",
     "output_type": "stream",
     "text": [
      "-----------------------------------\n",
      "Category:       business\n",
      "Total:          17\n",
      "New:            11\n",
      "-----------------------------------\n",
      "\n",
      "-----------------------------------\n",
      "Category:       bangladesh\n",
      "Total:          96\n",
      "New:            56\n",
      "-----------------------------------\n",
      "\n",
      "-----------------------------------\n",
      "Category:       health\n",
      "Total:          4\n",
      "New:            0\n",
      "-----------------------------------\n",
      "\n",
      "-----------------------------------\n",
      "Category:       environment\n",
      "Total:          3\n",
      "New:            0\n",
      "-----------------------------------\n",
      "\n",
      "-----------------------------------\n",
      "Category:       sport\n",
      "Total:          26\n",
      "New:            15\n",
      "-----------------------------------\n",
      "\n",
      "-----------------------------------\n",
      "Category:       science\n",
      "Total:          2\n",
      "New:            0\n",
      "-----------------------------------\n",
      "\n",
      "-----------------------------------\n",
      "Category:       probash\n",
      "Total:          3\n",
      "New:            1\n",
      "-----------------------------------\n",
      "\n",
      "-----------------------------------\n",
      "Category:       politics\n",
      "Total:          22\n",
      "New:            10\n",
      "-----------------------------------\n",
      "\n",
      "-----------------------------------\n",
      "Category:       economy\n",
      "Total:          6\n",
      "New:            4\n",
      "-----------------------------------\n",
      "\n",
      "-----------------------------------\n",
      "Category:       ctg\n",
      "Total:          12\n",
      "New:            6\n",
      "-----------------------------------\n",
      "\n",
      "-----------------------------------\n",
      "Category:       cricket\n",
      "Total:          16\n",
      "New:            9\n",
      "-----------------------------------\n",
      "\n"
     ]
    }
   ],
   "source": [
    "categories_compatible_with_ALP01 = [\n",
    "    'বাণিজ্য',\n",
    "    'বাংলাদেশ',\n",
    "    'স্বাস্থ্য',\n",
    "    'পরিবেশ',\n",
    "    'খেলা',\n",
    "    'বিজ্ঞান',\n",
    "    'প্রবাস',\n",
    "    'রাজনীতি',\n",
    "    'অর্থনীতি',\n",
    "    'চট্টগ্রাম',\n",
    "    'ক্রিকেট'\n",
    "]\n",
    "for compatible_category in categories_compatible_with_ALP01:\n",
    "    category_parser(categories[compatible_category], basedir, article_links_parser_01)"
   ]
  },
  {
   "cell_type": "code",
   "execution_count": 37,
   "metadata": {},
   "outputs": [
    {
     "name": "stdout",
     "output_type": "stream",
     "text": [
      "-----------------------------------\n",
      "Category:       world\n",
      "Total:          37\n",
      "New:            18\n",
      "-----------------------------------\n",
      "\n",
      "-----------------------------------\n",
      "Category:       campus\n",
      "Total:          2\n",
      "New:            0\n",
      "-----------------------------------\n",
      "\n",
      "-----------------------------------\n",
      "Category:       samagrabangladesh\n",
      "Total:          59\n",
      "New:            36\n",
      "-----------------------------------\n",
      "\n",
      "-----------------------------------\n",
      "Category:       stocks\n",
      "Total:          9\n",
      "New:            6\n",
      "-----------------------------------\n",
      "\n"
     ]
    }
   ],
   "source": [
    "categories_compatible_with_ALP02 = [\n",
    "    'বিশ্ব',\n",
    "    'ক্যাম্পাস',\n",
    "    'সমগ্র বাংলাদেশ',\n",
    "    'পুঁজিবাজার'\n",
    "]\n",
    "for compatible_category in categories_compatible_with_ALP02:\n",
    "    category_parser(categories[compatible_category], basedir, article_links_parser_02)"
   ]
  },
  {
   "cell_type": "markdown",
   "metadata": {},
   "source": [
    "### Load collected articles as DataFrame"
   ]
  },
  {
   "cell_type": "code",
   "execution_count": 9,
   "metadata": {},
   "outputs": [
    {
     "data": {
      "text/html": [
       "<div>\n",
       "<style scoped>\n",
       "    .dataframe tbody tr th:only-of-type {\n",
       "        vertical-align: middle;\n",
       "    }\n",
       "\n",
       "    .dataframe tbody tr th {\n",
       "        vertical-align: top;\n",
       "    }\n",
       "\n",
       "    .dataframe thead th {\n",
       "        text-align: right;\n",
       "    }\n",
       "</style>\n",
       "<table border=\"1\" class=\"dataframe\">\n",
       "  <thead>\n",
       "    <tr style=\"text-align: right;\">\n",
       "      <th></th>\n",
       "      <th>article_id</th>\n",
       "      <th>article_title</th>\n",
       "      <th>article_by</th>\n",
       "      <th>article_published</th>\n",
       "      <th>article_updated</th>\n",
       "      <th>article_leadtext</th>\n",
       "      <th>article_text</th>\n",
       "      <th>article_category</th>\n",
       "    </tr>\n",
       "  </thead>\n",
       "  <tbody>\n",
       "    <tr>\n",
       "      <th>1984</th>\n",
       "      <td>article1779932.bdnews</td>\n",
       "      <td>করোনাভাইরাস: বিশ্বজুড়ে একদিনে রেকর্ড রোগী শনাক্ত</td>\n",
       "      <td>নিউজ ডেস্ক, বিডিনিউজ টোয়েন্টিফোর ডটকম</td>\n",
       "      <td>13 Jul 2020 10:01 AM BdST</td>\n",
       "      <td>13 Jul 2020 10:29 AM BdST</td>\n",
       "      <td>বিশ্বজুড়ে একদিনে রেকর্ড দুই লাখ ৩০ হাজার ৩৭০ জ...</td>\n",
       "      <td>বিশ্বজুড়ে একদিনে রেকর্ড দুই লাখ ৩০ হাজার ৩৭০ জ...</td>\n",
       "      <td>world</td>\n",
       "    </tr>\n",
       "    <tr>\n",
       "      <th>1666</th>\n",
       "      <td>article1768695.bdnews</td>\n",
       "      <td>পুঁজিবাজারে ‘কালো টাকা সাদা’ করার সুযোগ</td>\n",
       "      <td>নিজস্ব প্রতিবেদক  বিডিনিউজ টোয়েন্টিফোর ডটকম</td>\n",
       "      <td>11 Jun 2020 05:26 PM BdST</td>\n",
       "      <td>11 Jun 2020 06:15 PM BdST</td>\n",
       "      <td>পুঁজিবাজারে অর্থের প্রবাহ বাড়াতে ‘কালো টাকা স...</td>\n",
       "      <td>পুঁজিবাজারে অর্থের প্রবাহ বাড়াতে ‘কালো টাকা স...</td>\n",
       "      <td>stocks</td>\n",
       "    </tr>\n",
       "    <tr>\n",
       "      <th>1929</th>\n",
       "      <td>article1778198.bdnews</td>\n",
       "      <td>করোনাভাইরাস: যুক্তরাষ্ট্রে শনাক্ত রোগী ৩০ লাখ ...</td>\n",
       "      <td>নিউজ ডেস্ক, বিডিনিউজ টোয়েন্টিফোর ডটকম</td>\n",
       "      <td>08 Jul 2020 11:02 AM BdST</td>\n",
       "      <td>08 Jul 2020 11:11 AM BdST</td>\n",
       "      <td>বিশ্বজুড়ে ছড়িয়ে পড়া করোনাভাইরাস মহামারীর মধ্যে...</td>\n",
       "      <td>বিশ্বজুড়ে ছড়িয়ে পড়া করোনাভাইরাস মহামারীর মধ্যে...</td>\n",
       "      <td>world</td>\n",
       "    </tr>\n",
       "    <tr>\n",
       "      <th>349</th>\n",
       "      <td>article1776944.bdnews</td>\n",
       "      <td>এসআইবিএলে হিসাব খুললে ১০০ টাকা ক্যাশব্যাক</td>\n",
       "      <td>নিজস্ব প্রতিবেদক  বিডিনিউজ টোয়েন্টিফোর ডটকম</td>\n",
       "      <td>04 Jul 2020 05:44 PM BdST</td>\n",
       "      <td>04 Jul 2020 05:44 PM BdST</td>\n",
       "      <td>বেসরকারি সোশ্যাল ইসলামী ব্যাংকে হিসাব ‍খুললে ১...</td>\n",
       "      <td>বেসরকারি সোশ্যাল ইসলামী ব্যাংকে হিসাব ‍খুললে ১...</td>\n",
       "      <td>business</td>\n",
       "    </tr>\n",
       "    <tr>\n",
       "      <th>489</th>\n",
       "      <td>article1776310.bdnews</td>\n",
       "      <td>ক্রিকেট ফেরাতে মাঠ প্রস্তুত রাখছে বিসিবি</td>\n",
       "      <td>ক্রীড়া প্রতিবেদক, বিডিনিউজ টোয়েন্টিফোর ডটকম</td>\n",
       "      <td>02 Jul 2020 07:36 PM BdST</td>\n",
       "      <td>03 Jul 2020 02:58 PM BdST</td>\n",
       "      <td>করোনাভাইরাস পরিস্থিতির জন্য মার্চ থেকে বন্ধ দে...</td>\n",
       "      <td>করোনাভাইরাস পরিস্থিতির জন্য মার্চ থেকে বন্ধ দে...</td>\n",
       "      <td>cricket</td>\n",
       "    </tr>\n",
       "  </tbody>\n",
       "</table>\n",
       "</div>"
      ],
      "text/plain": [
       "                 article_id  \\\n",
       "1984  article1779932.bdnews   \n",
       "1666  article1768695.bdnews   \n",
       "1929  article1778198.bdnews   \n",
       "349   article1776944.bdnews   \n",
       "489   article1776310.bdnews   \n",
       "\n",
       "                                          article_title  \\\n",
       "1984   করোনাভাইরাস: বিশ্বজুড়ে একদিনে রেকর্ড রোগী শনাক্ত   \n",
       "1666            পুঁজিবাজারে ‘কালো টাকা সাদা’ করার সুযোগ   \n",
       "1929  করোনাভাইরাস: যুক্তরাষ্ট্রে শনাক্ত রোগী ৩০ লাখ ...   \n",
       "349           এসআইবিএলে হিসাব খুললে ১০০ টাকা ক্যাশব্যাক   \n",
       "489            ক্রিকেট ফেরাতে মাঠ প্রস্তুত রাখছে বিসিবি   \n",
       "\n",
       "                                       article_by          article_published  \\\n",
       "1984        নিউজ ডেস্ক, বিডিনিউজ টোয়েন্টিফোর ডটকম  13 Jul 2020 10:01 AM BdST   \n",
       "1666  নিজস্ব প্রতিবেদক  বিডিনিউজ টোয়েন্টিফোর ডটকম  11 Jun 2020 05:26 PM BdST   \n",
       "1929        নিউজ ডেস্ক, বিডিনিউজ টোয়েন্টিফোর ডটকম  08 Jul 2020 11:02 AM BdST   \n",
       "349   নিজস্ব প্রতিবেদক  বিডিনিউজ টোয়েন্টিফোর ডটকম  04 Jul 2020 05:44 PM BdST   \n",
       "489   ক্রীড়া প্রতিবেদক, বিডিনিউজ টোয়েন্টিফোর ডটকম  02 Jul 2020 07:36 PM BdST   \n",
       "\n",
       "                article_updated  \\\n",
       "1984  13 Jul 2020 10:29 AM BdST   \n",
       "1666  11 Jun 2020 06:15 PM BdST   \n",
       "1929  08 Jul 2020 11:11 AM BdST   \n",
       "349   04 Jul 2020 05:44 PM BdST   \n",
       "489   03 Jul 2020 02:58 PM BdST   \n",
       "\n",
       "                                       article_leadtext  \\\n",
       "1984  বিশ্বজুড়ে একদিনে রেকর্ড দুই লাখ ৩০ হাজার ৩৭০ জ...   \n",
       "1666  পুঁজিবাজারে অর্থের প্রবাহ বাড়াতে ‘কালো টাকা স...   \n",
       "1929  বিশ্বজুড়ে ছড়িয়ে পড়া করোনাভাইরাস মহামারীর মধ্যে...   \n",
       "349   বেসরকারি সোশ্যাল ইসলামী ব্যাংকে হিসাব ‍খুললে ১...   \n",
       "489   করোনাভাইরাস পরিস্থিতির জন্য মার্চ থেকে বন্ধ দে...   \n",
       "\n",
       "                                           article_text article_category  \n",
       "1984  বিশ্বজুড়ে একদিনে রেকর্ড দুই লাখ ৩০ হাজার ৩৭০ জ...            world  \n",
       "1666  পুঁজিবাজারে অর্থের প্রবাহ বাড়াতে ‘কালো টাকা স...           stocks  \n",
       "1929  বিশ্বজুড়ে ছড়িয়ে পড়া করোনাভাইরাস মহামারীর মধ্যে...            world  \n",
       "349   বেসরকারি সোশ্যাল ইসলামী ব্যাংকে হিসাব ‍খুললে ১...         business  \n",
       "489   করোনাভাইরাস পরিস্থিতির জন্য মার্চ থেকে বন্ধ দে...          cricket  "
      ]
     },
     "execution_count": 9,
     "metadata": {},
     "output_type": "execute_result"
    }
   ],
   "source": [
    "articles = []\n",
    "for filepath in glob.glob(basedir + '/**/*.json', recursive=True):\n",
    "    with open(filepath, encoding='utf-8') as file:\n",
    "        articles.append(json.load(file))\n",
    "\n",
    "df = pd.DataFrame(articles)\n",
    "df.sample(5)"
   ]
  },
  {
   "cell_type": "code",
   "execution_count": 10,
   "metadata": {},
   "outputs": [
    {
     "data": {
      "text/html": [
       "<div>\n",
       "<style scoped>\n",
       "    .dataframe tbody tr th:only-of-type {\n",
       "        vertical-align: middle;\n",
       "    }\n",
       "\n",
       "    .dataframe tbody tr th {\n",
       "        vertical-align: top;\n",
       "    }\n",
       "\n",
       "    .dataframe thead th {\n",
       "        text-align: right;\n",
       "    }\n",
       "</style>\n",
       "<table border=\"1\" class=\"dataframe\">\n",
       "  <thead>\n",
       "    <tr style=\"text-align: right;\">\n",
       "      <th></th>\n",
       "      <th>Count</th>\n",
       "    </tr>\n",
       "    <tr>\n",
       "      <th>article_category</th>\n",
       "      <th></th>\n",
       "    </tr>\n",
       "  </thead>\n",
       "  <tbody>\n",
       "    <tr>\n",
       "      <th>bangladesh</th>\n",
       "      <td>277</td>\n",
       "    </tr>\n",
       "    <tr>\n",
       "      <th>world</th>\n",
       "      <td>271</td>\n",
       "    </tr>\n",
       "    <tr>\n",
       "      <th>samagrabangladesh</th>\n",
       "      <td>217</td>\n",
       "    </tr>\n",
       "    <tr>\n",
       "      <th>sport</th>\n",
       "      <td>173</td>\n",
       "    </tr>\n",
       "    <tr>\n",
       "      <th>stocks</th>\n",
       "      <td>166</td>\n",
       "    </tr>\n",
       "    <tr>\n",
       "      <th>politics</th>\n",
       "      <td>145</td>\n",
       "    </tr>\n",
       "    <tr>\n",
       "      <th>business</th>\n",
       "      <td>138</td>\n",
       "    </tr>\n",
       "    <tr>\n",
       "      <th>ctg</th>\n",
       "      <td>134</td>\n",
       "    </tr>\n",
       "    <tr>\n",
       "      <th>cricket</th>\n",
       "      <td>131</td>\n",
       "    </tr>\n",
       "    <tr>\n",
       "      <th>economy</th>\n",
       "      <td>110</td>\n",
       "    </tr>\n",
       "    <tr>\n",
       "      <th>health</th>\n",
       "      <td>110</td>\n",
       "    </tr>\n",
       "    <tr>\n",
       "      <th>probash</th>\n",
       "      <td>105</td>\n",
       "    </tr>\n",
       "    <tr>\n",
       "      <th>campus</th>\n",
       "      <td>33</td>\n",
       "    </tr>\n",
       "    <tr>\n",
       "      <th>environment</th>\n",
       "      <td>15</td>\n",
       "    </tr>\n",
       "    <tr>\n",
       "      <th>science</th>\n",
       "      <td>7</td>\n",
       "    </tr>\n",
       "  </tbody>\n",
       "</table>\n",
       "</div>"
      ],
      "text/plain": [
       "                   Count\n",
       "article_category        \n",
       "bangladesh           277\n",
       "world                271\n",
       "samagrabangladesh    217\n",
       "sport                173\n",
       "stocks               166\n",
       "politics             145\n",
       "business             138\n",
       "ctg                  134\n",
       "cricket              131\n",
       "economy              110\n",
       "health               110\n",
       "probash              105\n",
       "campus                33\n",
       "environment           15\n",
       "science                7"
      ]
     },
     "execution_count": 10,
     "metadata": {},
     "output_type": "execute_result"
    }
   ],
   "source": [
    "article_counts = df\\\n",
    ".groupby(['article_category'])['article_id']\\\n",
    ".agg(['count'])\\\n",
    ".rename(columns={'count':'Count'})\\\n",
    ".sort_values(by='Count', ascending=False); article_counts"
   ]
  },
  {
   "cell_type": "code",
   "execution_count": 11,
   "metadata": {},
   "outputs": [
    {
     "data": {
      "image/png": "[encoded data removed]",
      "text/plain": [
       "<Figure size 720x360 with 1 Axes>"
      ]
     },
     "metadata": {},
     "output_type": "display_data"
    }
   ],
   "source": [
    "%matplotlib inline\n",
    "plt.style.use('ggplot')\n",
    "ax = article_counts.plot(\n",
    "    kind='bar',\n",
    "    figsize=(10,5),\n",
    "    alpha=0.5,\n",
    "    title='Count by Category'\n",
    ")\n",
    "ax.set_xlabel('Category');\n"
   ]
  },
  {
   "cell_type": "markdown",
   "metadata": {},
   "source": [
    "### Some Pre-Processing"
   ]
  },
  {
   "cell_type": "code",
   "execution_count": 12,
   "metadata": {},
   "outputs": [],
   "source": [
    "df['article_text'] = df['article_text'].str.replace('\\xa0', ' ')\n",
    "df['article_text'] = df['article_text'].str.replace('\\u200d', ' ')\n",
    "df['article_text'] = df['article_text'].str.replace('\\u200c', '')"
   ]
  },
  {
   "cell_type": "markdown",
   "metadata": {},
   "source": [
    "### Part: Article Category Prediction"
   ]
  },
  {
   "cell_type": "code",
   "execution_count": 13,
   "metadata": {},
   "outputs": [
    {
     "data": {
      "text/plain": [
       "(2032, 8)"
      ]
     },
     "execution_count": 13,
     "metadata": {},
     "output_type": "execute_result"
    }
   ],
   "source": [
    "df = df.sample(frac=1.0)\n",
    "df.shape"
   ]
  },
  {
   "cell_type": "code",
   "execution_count": 14,
   "metadata": {},
   "outputs": [
    {
     "data": {
      "text/plain": [
       "15"
      ]
     },
     "execution_count": 14,
     "metadata": {},
     "output_type": "execute_result"
    }
   ],
   "source": [
    "article_categories = df.article_category.unique(); len(article_categories)"
   ]
  },
  {
   "cell_type": "markdown",
   "metadata": {},
   "source": [
    "### Bangla Stop-Words Collection\n",
    "##### https://github.com/stopwords-iso/stopwords-bn/blob/master/stopwords-bn.txt"
   ]
  },
  {
   "cell_type": "code",
   "execution_count": 15,
   "metadata": {},
   "outputs": [],
   "source": [
    "stopwords_file = os.path.join(datadir, 'stopwords-bn.txt')\n",
    "with open(stopwords_file, 'r', encoding='utf-8') as file:\n",
    "    stop_words = [w.strip() for w in file.readlines()]"
   ]
  },
  {
   "cell_type": "code",
   "execution_count": 16,
   "metadata": {},
   "outputs": [],
   "source": [
    "def train(articles, categories, stop_words, parameters):\n",
    "    text_clf = Pipeline([\n",
    "        (\n",
    "            'vect',\n",
    "            TfidfVectorizer(stop_words=stop_words)\n",
    "        ),\n",
    "        (\n",
    "            'clf', \n",
    "            SGDClassifier(loss='log')\n",
    "        )\n",
    "    ])\n",
    "    clf = GridSearchCV(\n",
    "        text_clf,\n",
    "        parameters,\n",
    "        cv=5,\n",
    "        n_jobs=-1,\n",
    "        verbose=0\n",
    "    )\n",
    "    clf.fit(articles, categories)\n",
    "    return clf"
   ]
  },
  {
   "cell_type": "code",
   "execution_count": 17,
   "metadata": {},
   "outputs": [],
   "source": [
    "parameters = {\n",
    "    'vect__max_features': [int(number) for number in [1e5, 1e6, 1e7]],\n",
    "    'vect__ngram_range': [(1, 1), (1, 3)],\n",
    "    'clf__alpha': (np.logspace(-5, -1, 5)).tolist()\n",
    "}\n",
    "\n",
    "articles, categories = df.article_text, df.article_category\n",
    "train_data, test_data, train_labels, test_labels = train_test_split(\n",
    "    articles,\n",
    "    categories,\n",
    "    test_size=0.2,\n",
    "    stratify=categories,\n",
    "    random_state=2020\n",
    ")"
   ]
  },
  {
   "cell_type": "code",
   "execution_count": 18,
   "metadata": {},
   "outputs": [],
   "source": [
    "clf = train(\n",
    "    articles=train_data,\n",
    "    categories=train_labels,\n",
    "    stop_words=stop_words,\n",
    "    parameters=parameters\n",
    ")"
   ]
  },
  {
   "cell_type": "code",
   "execution_count": 19,
   "metadata": {},
   "outputs": [
    {
     "data": {
      "text/plain": [
       "{'clf__alpha': 1e-05,\n",
       " 'vect__max_features': 100000,\n",
       " 'vect__ngram_range': (1, 3)}"
      ]
     },
     "execution_count": 19,
     "metadata": {},
     "output_type": "execute_result"
    }
   ],
   "source": [
    "clf.best_params_"
   ]
  },
  {
   "cell_type": "code",
   "execution_count": 20,
   "metadata": {},
   "outputs": [
    {
     "data": {
      "image/png": "[encoded data removed]",
      "text/plain": [
       "<Figure size 576x432 with 2 Axes>"
      ]
     },
     "metadata": {},
     "output_type": "display_data"
    }
   ],
   "source": [
    "fig, ax = plt.subplots(figsize=(8, 6))\n",
    "ax.set_title('Confusion Matrix (Train Data)')\n",
    "plot_confusion_matrix(\n",
    "    clf,\n",
    "    train_data,\n",
    "    train_labels,\n",
    "    values_format='d',\n",
    "    xticks_rotation='vertical',\n",
    "    cmap=plt.cm.Blues,\n",
    "    ax=ax\n",
    ")\n",
    "plt.show();"
   ]
  },
  {
   "cell_type": "code",
   "execution_count": 21,
   "metadata": {},
   "outputs": [
    {
     "name": "stdout",
     "output_type": "stream",
     "text": [
      "                   precision    recall  f1-score   support\n",
      "\n",
      "       bangladesh       0.99      1.00      0.99       220\n",
      "         business       1.00      0.99      1.00       111\n",
      "           campus       1.00      1.00      1.00        26\n",
      "          cricket       1.00      1.00      1.00       105\n",
      "              ctg       1.00      0.99      1.00       108\n",
      "          economy       1.00      0.99      0.99        89\n",
      "      environment       0.83      1.00      0.91        10\n",
      "           health       0.95      0.99      0.97        85\n",
      "         politics       0.99      0.99      0.99       116\n",
      "          probash       1.00      1.00      1.00        84\n",
      "samagrabangladesh       1.00      0.99      1.00       175\n",
      "          science       1.00      0.86      0.92         7\n",
      "            sport       1.00      1.00      1.00       138\n",
      "           stocks       1.00      1.00      1.00       133\n",
      "            world       1.00      0.99      0.99       218\n",
      "\n",
      "         accuracy                           0.99      1625\n",
      "        macro avg       0.98      0.99      0.98      1625\n",
      "     weighted avg       0.99      0.99      0.99      1625\n",
      "\n"
     ]
    }
   ],
   "source": [
    "train_predictions = clf.predict(train_data)\n",
    "print(classification_report(train_predictions, train_labels))"
   ]
  },
  {
   "cell_type": "code",
   "execution_count": 22,
   "metadata": {},
   "outputs": [
    {
     "data": {
      "image/png": "[encoded data removed]",
      "text/plain": [
       "<Figure size 576x432 with 2 Axes>"
      ]
     },
     "metadata": {},
     "output_type": "display_data"
    }
   ],
   "source": [
    "fig, ax = plt.subplots(figsize=(8, 6))\n",
    "ax.set_title('Confusion Matrix (Test Data)')\n",
    "plot_confusion_matrix(\n",
    "    clf,\n",
    "    test_data,\n",
    "    test_labels,\n",
    "    values_format='d',\n",
    "    xticks_rotation='vertical',\n",
    "    cmap=plt.cm.Blues,\n",
    "    ax=ax\n",
    ")\n",
    "plt.show();"
   ]
  },
  {
   "cell_type": "code",
   "execution_count": 23,
   "metadata": {},
   "outputs": [
    {
     "name": "stdout",
     "output_type": "stream",
     "text": [
      "                   precision    recall  f1-score   support\n",
      "\n",
      "       bangladesh       0.71      0.69      0.70        58\n",
      "         business       0.79      0.71      0.75        31\n",
      "           campus       0.71      1.00      0.83         5\n",
      "          cricket       0.92      1.00      0.96        24\n",
      "              ctg       0.81      0.92      0.86        24\n",
      "          economy       0.86      0.70      0.78        27\n",
      "      environment       0.33      1.00      0.50         1\n",
      "           health       0.77      0.74      0.76        23\n",
      "         politics       0.72      0.75      0.74        28\n",
      "          probash       0.76      0.80      0.78        20\n",
      "samagrabangladesh       0.84      0.90      0.87        40\n",
      "          science       0.00      0.00      0.00         0\n",
      "            sport       0.97      1.00      0.99        34\n",
      "           stocks       0.88      1.00      0.94        29\n",
      "            world       0.93      0.79      0.85        63\n",
      "\n",
      "         accuracy                           0.83       407\n",
      "        macro avg       0.73      0.80      0.75       407\n",
      "     weighted avg       0.83      0.83      0.83       407\n",
      "\n"
     ]
    }
   ],
   "source": [
    "test_predictions = clf.predict(test_data)\n",
    "print(classification_report(test_predictions, test_labels))"
   ]
  },
  {
   "cell_type": "code",
   "execution_count": 24,
   "metadata": {},
   "outputs": [
    {
     "name": "stdout",
     "output_type": "stream",
     "text": [
      "Article Not Found ...\n"
     ]
    }
   ],
   "source": [
    "if 'article1781382.bdnews' not in list(df.article_id):\n",
    "    print('Article Not Found ...')"
   ]
  },
  {
   "cell_type": "code",
   "execution_count": 25,
   "metadata": {},
   "outputs": [
    {
     "data": {
      "text/plain": [
       "'sport'"
      ]
     },
     "execution_count": 25,
     "metadata": {},
     "output_type": "execute_result"
    }
   ],
   "source": [
    "text = '''\n",
    "আলফ্রেদো দে স্তেফানো স্টেডিয়ামে বৃহস্পতিবার ভিয়ারিয়ালকে ২-১ গোলে হারিয়ে উৎসবে মেতে ওঠে জিদনের দল।\n",
    "\n",
    "প্রতিযোগিতার ইতিহাসে রেকর্ড চ্যাম্পিয়ন রিয়ালের এটি ৩৪তম শিরোপা। এর আগে ২০১৬-১৭ মৌসুমে শেষবার লিগের মুকুট পরেছিল তারা।\n",
    "\n",
    "আক্রমণাত্মক শুরু করা রিয়াল প্রথম সাত মিনিটে ভালো দুটি আক্রমণ করে; তবে সাফল্য মেলেনি। তৃতীয় মিনিটে দানি কারভাহালের দুর্বল লবের চার মিনিট পর লুকা মদ্রিচও দুর্বল শট নেন। খানিক পর লক্ষ্যভ্রষ্ট শটে হতাশ করেন করিম বেনজেমাও।\n",
    "\n",
    "২৯তম মিনিটে গোলের দেখা পায় রিয়াল। মাঝমাঝে প্রতিপক্ষের পাস ধরে কাসিমিরো বাড়ান সামনে। মদ্রিচ বল ধরে একটু এগিয়ে ডান দিকে বাড়ান বেনজেমাকে। ডি-বক্সে জায়গা বানিয়ে কোনাকুনি শটে গোলরক্ষকের দুই পায়ের ফাঁক দিয়ে ঠিকানা খুঁজে নেন আসরের দ্বিতীয় সর্বোচ্চ গোলদাতা।\n",
    "\n",
    "২০০৯ সালে লিওঁ থেকে বের্নাবেউয়ে যোগ দেওয়া বেনজেমা এই প্রথম লা লিগায় টানা দুই মৌসুমে ২০ বা তার বেশি গোল করলেন। গত মৌসুমে করেছিলেন ২১টি।\n",
    "\n",
    "দ্বিতীয়ার্ধের অষ্টম মিনিটে ব্যবধান দ্বিগুণ করার সুযোগ তৈরি করেছিলেন কারভাহাল। তবে একজনকে কাটিয়ে তার নেওয়া শট রুখে দেন গোলরক্ষক সের্হিও আসেনহো।\n",
    "\n",
    "৬৬তম মিনিটে বাঁ দিক দিয়ে ডি-বক্সে ঢুকে পড়া চাভি কিনতিয়াকে রুখতে ছুটে যান কোর্তোয়া। বল নিয়ন্ত্রণে নিলেও প্রতিপক্ষের ডিফেন্ডারের হাঁটুতে মাথায় আঘাত পান বেলজিয়ান গোলরক্ষক। তবে, মাঠেই প্রাথমিক চিকিৎসা নিয়ে খেলা চালিয়ে যান তিনি।\n",
    "\n",
    "৭৭তম মিনিটে ঘটনাহুল পেনাল্টি গোলে শিরোপা অনেকটাই নিশ্চিত করে ফেলেন বেনজেমা। রামোস ডি-বক্সে ফাউলের শিকার হলে পেনাল্টিটি পায় রিয়াল।\n",
    "\n",
    "স্পট কিক নিতে এসে আলতো টোকায় বল একটু সামনে বাড়ান অধিনায়ক রামোস, ছুটে এসে জোরালো শটে লক্ষ্যভেদ করেন বেনজেমা। প্রতিবাদ জানায় সফরকারীরা। অবশ্য রামোসের টোকার আগেই বেনজেমা ডি-বক্সে ঢুকে পড়ায় আবার পেনাল্টি শট নিতে হয় রিয়ালকে। এবার আর কোনো বাড়তি ঘটনা নয়, নিচু শটে আসরে নিজের ২১তম গোলটি করেন ফরাসি ফরোয়ার্ড।   \n",
    "\n",
    "চার মিনিট পর তারা পেতে পারতো আরেক গোল। কিন্তু টনি ক্রুসের দূরপাল্লার জোরালো শট ক্রসবারে বাধা পায়।\n",
    "\n",
    "৮৩তম মিনিটে ডান দিক থেকে সতীর্থের ক্রসে হেডে ইবোরা ঠিকানা খুঁজে পেলে নাটকীয়তার সম্ভাবনা জাগে। ব্যবধান কমিয়ে উজ্জীবিত হয়ে ওঠে ভিয়ারিয়াল। ৮৮তম মিনিটে সমতাও টানতে পারতো তারা; তবে মুহূর্তের ব্যবধানে দুটি সুযোগ হারায় দলটি।\n",
    "\n",
    "যোগ করা সময়ে জালে বল পাঠিয়েছিলেন মার্কো আসেনসিও। তবে তাকে পাস দেওয়া বেনজেমার হাতে বল লাগায় ভিএআরের সাহায্যে হ্যান্ডবলের বাঁশি বাজান রেফারি। \n",
    "'''\n",
    "prediction = clf.predict(pd.Series(text.replace('\\n', ' '))); prediction[0]"
   ]
  },
  {
   "cell_type": "markdown",
   "metadata": {},
   "source": [
    "### References\n",
    "\n",
    "##### 1. https://en.wikipedia.org/wiki/International_Phonetic_Alphabet\n",
    "##### 2. https://en.wikipedia.org/wiki/Bengali_(Unicode_block)\n",
    "##### 3. https://scikit-learn.org/stable/modules/generated/sklearn.model_selection.train_test_split.html\n",
    "##### 4. https://scikit-learn.org/stable/modules/generated/sklearn.model_selection.GridSearchCV.html\n",
    "##### 5. https://scikit-learn.org/stable/modules/generated/sklearn.metrics.plot_confusion_matrix.html#sklearn.metrics.plot_confusion_matrix\n",
    "##### 6. https://scikit-learn.org/stable/modules/sgd.html"
   ]
  }
 ],
 "metadata": {
  "kernelspec": {
   "display_name": "Python 3",
   "language": "python",
   "name": "python3"
  },
  "language_info": {
   "codemirror_mode": {
    "name": "ipython",
    "version": 3
   },
   "file_extension": ".py",
   "mimetype": "text/x-python",
   "name": "python",
   "nbconvert_exporter": "python",
   "pygments_lexer": "ipython3",
   "version": "3.8.2"
  }
 },
 "nbformat": 4,
 "nbformat_minor": 4
}
